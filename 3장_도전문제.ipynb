{
  "nbformat": 4,
  "nbformat_minor": 0,
  "metadata": {
    "colab": {
      "name": "3장 도전문제",
      "provenance": [],
      "authorship_tag": "ABX9TyNVKBLemyNW/nA7XGYG5Wzm",
      "include_colab_link": true
    },
    "kernelspec": {
      "name": "python3",
      "display_name": "Python 3"
    },
    "language_info": {
      "name": "python"
    }
  },
  "cells": [
    {
      "cell_type": "markdown",
      "metadata": {
        "id": "view-in-github",
        "colab_type": "text"
      },
      "source": [
        "<a href=\"https://colab.research.google.com/github/seoyoons/college/blob/main/3%EC%9E%A5_%EB%8F%84%EC%A0%84%EB%AC%B8%EC%A0%9C.ipynb\" target=\"_parent\"><img src=\"https://colab.research.google.com/assets/colab-badge.svg\" alt=\"Open In Colab\"/></a>"
      ]
    },
    {
      "cell_type": "code",
      "metadata": {
        "colab": {
          "base_uri": "https://localhost:8080/"
        },
        "id": "6sToR5-nql3k",
        "outputId": "baea6210-4114-4b35-d535-4deeaf7648e9"
      },
      "source": [
        "total =  100000\n",
        "americano_price = 2000\n",
        "cafelatte_price = 3000\n",
        "capucino_price = 3500\n",
        "\n",
        "americanos = int(input(\"아메리카노 판매 개수: \"))\n",
        "cafelattes = int(input(\"카페라떼 판매 개수: \"))\n",
        "capucinos = int(input(\"카푸치노 판매 개수: \"))\n",
        "\n",
        "sales = americanos*americano_price\n",
        "sales = sales +cafelattes * cafelatte_price\n",
        "sales = sales + capucinos * capucino_price\n",
        "print(\"총 매출은\", sales, \"입니다.\")\n",
        "\n",
        "if(total<sales): print(\"흑자입니다.\")\n",
        "else : print(\"적자입니다.\")"
      ],
      "execution_count": 2,
      "outputs": [
        {
          "output_type": "stream",
          "name": "stdout",
          "text": [
            "아메리카노 판매 개수: 21\n",
            "카페라떼 판매 개수: 13\n",
            "카푸치노 판매 개수: 14\n",
            "총 매출은 130000 입니다.\n",
            "흑자입니다.\n"
          ]
        }
      ]
    },
    {
      "cell_type": "code",
      "metadata": {
        "colab": {
          "base_uri": "https://localhost:8080/"
        },
        "id": "T5_WaQQDr11P",
        "outputId": "72d2face-3224-4744-8e48-3992c07c1cfd"
      },
      "source": [
        "ctemp = int(input(\"섭씨온도: \"))\n",
        "ftemp = 9/5*ctemp + 32\n",
        "print(\"화씨온도: \",ftemp)"
      ],
      "execution_count": 3,
      "outputs": [
        {
          "output_type": "stream",
          "name": "stdout",
          "text": [
            "섭씨온도: 21\n",
            "화씨온도:  69.80000000000001\n"
          ]
        }
      ]
    },
    {
      "cell_type": "code",
      "metadata": {
        "colab": {
          "base_uri": "https://localhost:8080/"
        },
        "id": "orNHnirCsG_v",
        "outputId": "838eef9b-fc6c-45ab-ef2c-75951cfa3a8e"
      },
      "source": [
        "money = int(input(\"투입한 돈: \"))\n",
        "price = int(input(\"물건 값: \"))\n",
        "\n",
        "change = money - price\n",
        "print(\"거스름돈: \", change)\n",
        "coin500s = change // 500   # 500으로 나누어서 몫이 500원짜리의 개수\n",
        "change = change % 500   #500으로 나눈 나머지를 계산\n",
        "coin100s = change // 100   \n",
        "change = change % 100\n",
        "coin50s = change // 50   \n",
        "change = change % 50\n",
        "coin10s = change // 10\n",
        "change = change % 10\n",
        "print(\"500원 동전의 개수: \", coin500s)\n",
        "print(\"100원 동전의 개수: \", coin100s)\n",
        "print(\"50원 동전의 개수: \", coin50s)\n",
        "print(\"10원 동전의 개수: \", coin10s)"
      ],
      "execution_count": 7,
      "outputs": [
        {
          "output_type": "stream",
          "name": "stdout",
          "text": [
            "투입한 돈: 5000\n",
            "물건 값: 2000\n",
            "거스름돈:  3000\n",
            "500원 동전의 개수:  6\n",
            "100원 동전의 개수:  0\n",
            "50원 동전의 개수:  0\n",
            "10원 동전의 개수:  0\n"
          ]
        }
      ]
    },
    {
      "cell_type": "code",
      "metadata": {
        "colab": {
          "base_uri": "https://localhost:8080/"
        },
        "id": "-rom8skCty9J",
        "outputId": "ca34e13b-173d-4a8e-dfaa-0b2fd13fcd84"
      },
      "source": [
        "money = int(input(\"투입한 돈: \")) #변수 money를 선언하고 정수형으로 받는다.\n",
        "price = int(input(\"물건 값: \"))  #변수 price를 선언하고 정수로 받는다.\n",
        "\n",
        "change = money - price #거스름돈 계산\n",
        "coin500s = change // 500\n",
        "change = change % 500\n",
        "coin100s = change // 100\n",
        "\n",
        "print(\"500원 동전의 개수: \", coin500s)\n",
        "print(\"100원 동전의 개수: \", coin100s)"
      ],
      "execution_count": 8,
      "outputs": [
        {
          "output_type": "stream",
          "name": "stdout",
          "text": [
            "투입한 돈: 5000\n",
            "물건 값: 2000\n",
            "500원 동전의 개수:  6\n",
            "100원 동전의 개수:  0\n"
          ]
        }
      ]
    }
  ]
}