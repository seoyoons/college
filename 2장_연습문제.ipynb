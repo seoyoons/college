{
  "nbformat": 4,
  "nbformat_minor": 0,
  "metadata": {
    "colab": {
      "name": "2장 연습문제",
      "provenance": [],
      "authorship_tag": "ABX9TyM9yaF4od+R8kc+vUYH8aIm",
      "include_colab_link": true
    },
    "kernelspec": {
      "name": "python3",
      "display_name": "Python 3"
    },
    "language_info": {
      "name": "python"
    }
  },
  "cells": [
    {
      "cell_type": "markdown",
      "metadata": {
        "id": "view-in-github",
        "colab_type": "text"
      },
      "source": [
        "<a href=\"https://colab.research.google.com/github/seoyoons/college/blob/main/2%EC%9E%A5_%EC%97%B0%EC%8A%B5%EB%AC%B8%EC%A0%9C.ipynb\" target=\"_parent\"><img src=\"https://colab.research.google.com/assets/colab-badge.svg\" alt=\"Open In Colab\"/></a>"
      ]
    },
    {
      "cell_type": "markdown",
      "metadata": {
        "id": "fuaBHdVMfCUd"
      },
      "source": [
        "1번"
      ]
    },
    {
      "cell_type": "code",
      "metadata": {
        "colab": {
          "base_uri": "https://localhost:8080/"
        },
        "id": "rVM5XCsDeXfn",
        "outputId": "a09c9598-4349-43b9-9550-c8d3d61c6fb0"
      },
      "source": [
        "name = input(\"이름을 입력하시오.: \")\n",
        "age = int(input(\"나이를 입력하시오: \"))\n",
        "year = 2021-age+100\n",
        "print(name + \"씨는\" + str(year) + \"년에 100살이시네요!\")"
      ],
      "execution_count": 1,
      "outputs": [
        {
          "output_type": "stream",
          "name": "stdout",
          "text": [
            "이름을 입력하시오.: 이서윤\n",
            "나이를 입력하시오: 20\n",
            "이서윤씨는2101년에 100살이시네요!\n"
          ]
        }
      ]
    },
    {
      "cell_type": "markdown",
      "metadata": {
        "id": "0L9L1S_BfHP6"
      },
      "source": [
        "2번"
      ]
    },
    {
      "cell_type": "code",
      "metadata": {
        "colab": {
          "base_uri": "https://localhost:8080/"
        },
        "id": "oNTIjai4fIEA",
        "outputId": "c86cfd5d-571d-40c0-c5fd-3882cd42ba72"
      },
      "source": [
        "n1 = int(input(\"첫 번째 숫자를 입력하시오.: \"))\n",
        "n2 = int(input(\"두 번째 숫자를 입력하시오.: \"))\n",
        "n3 = int(input(\"세 번째 숫자를 입력하시오.: \"))\n",
        "\n",
        "average = (n1 + n2 + n3)/3\n",
        "print(n1, n2, n3, \"의 평균은\", average, \"입니다.\")"
      ],
      "execution_count": 2,
      "outputs": [
        {
          "output_type": "stream",
          "name": "stdout",
          "text": [
            "첫 번째 숫자를 입력하시오.: 1\n",
            "두 번째 숫자를 입력하시오.: 2\n",
            "세 번째 숫자를 입력하시오.: 3\n",
            "1 2 3 의 평균은 2.0 입니다.\n"
          ]
        }
      ]
    },
    {
      "cell_type": "markdown",
      "metadata": {
        "id": "Kq4FyjGmfycf"
      },
      "source": [
        "3번"
      ]
    },
    {
      "cell_type": "code",
      "metadata": {
        "colab": {
          "base_uri": "https://localhost:8080/"
        },
        "id": "miNHqDuOhx1i",
        "outputId": "e6e42d26-c51c-4b13-abc1-014c0b67be6d"
      },
      "source": [
        "radius = int(input(\"반지름을 입력하시오: \"))\n",
        "area = 3.141592 * radius * radius\n",
        "print(\"반지름이\", radius, \"인 원의 넓이 =\", area, \"입니다.\")"
      ],
      "execution_count": 12,
      "outputs": [
        {
          "output_type": "stream",
          "name": "stdout",
          "text": [
            "반지름을 입력하시오: 12\n",
            "반지름이 12 인 원의 넓이 = 452.38924800000007 입니다.\n"
          ]
        }
      ]
    },
    {
      "cell_type": "markdown",
      "metadata": {
        "id": "nWj5N6Nkh8CM"
      },
      "source": [
        "4번"
      ]
    },
    {
      "cell_type": "code",
      "metadata": {
        "id": "B1nZAPUIh9Po"
      },
      "source": [
        "t = turtle.Turtle()\n",
        ">>> t.shape(\"turtle\")\n",
        ">>> \n",
        ">>> radius=50\n",
        ">>> t.up()\n",
        ">>> t.goto(0, 0)\n",
        ">>> t.down()\n",
        ">>> t.circle(radius)\n",
        ">>> radius = radius + 20\n",
        ">>> t.up()\n",
        ">>> t.goto(100,0)\n",
        ">>> t.down()\n",
        ">>> t.circle(radius)\n",
        ">>> radius = radius + 20\n",
        ">>> t.up()\n",
        ">>> t.goto(200,0)\n",
        ">>> t.down()\n",
        ">>> t.circle(radius)\n",
        ">>> t._screen.exitonclick()"
      ],
      "execution_count": null,
      "outputs": []
    },
    {
      "cell_type": "markdown",
      "metadata": {
        "id": "XYTNOWT3i5Z7"
      },
      "source": [
        "4번, 두 번째 방법"
      ]
    },
    {
      "cell_type": "code",
      "metadata": {
        "id": "2NZoc6c3jaj_"
      },
      "source": [
        "from turtle import *\n",
        ">>> shape(\"turtle\")\n",
        ">>> radius = 50\n",
        ">>> up()\n",
        ">>> goto(0, 0)\n",
        ">>> down()\n",
        ">>> circle(radius)\n",
        ">>> radius=radius+20\n",
        ">>> up()\n",
        ">>> goto(100, 0)\n",
        ">>> down()\n",
        ">>> circle(radius)\n",
        ">>> radius = radius+20\n",
        ">>> up()\n",
        ">>> goto(200,0)\n",
        ">>> down()\n",
        ">>> circle(radius)\n",
        ">>> exitonclick()"
      ],
      "execution_count": null,
      "outputs": []
    },
    {
      "cell_type": "markdown",
      "metadata": {
        "id": "3C-iKH-ukN0X"
      },
      "source": [
        "5번"
      ]
    },
    {
      "cell_type": "code",
      "metadata": {
        "id": "VmwQnlLCkunW"
      },
      "source": [
        "import turtle\n",
        ">>> t = turtle.Turtle\n",
        ">>> import turtle\n",
        ">>> t = turtle.Turtle()\n",
        ">>> t.shape(\"turtle\")\n",
        ">>> side = 50\n",
        ">>> t.forward(side)\n",
        ">>> t.left(120)\n",
        ">>> t.forward(side)\n",
        ">>> t.left(120)\n",
        ">>> t.forward(side)\n",
        ">>> t.left(120)\n",
        ">>> t._screen.exitonclick()"
      ],
      "execution_count": null,
      "outputs": []
    },
    {
      "cell_type": "code",
      "metadata": {
        "id": "WYHYO-3Hl6SX"
      },
      "source": [
        "from turtle import *\n",
        ">>> shape(\"turtle\")\n",
        ">>> radius=50; up(); goto(0,0); down(); circle(radius)\n",
        ">>> radius=radius+20; up(); goto(100,0); down(); circle(radius)\n",
        ">>> radius= radius+20; up(); goto(200,0); down(); circle(radius)\n",
        ">>> exitonclick()"
      ],
      "execution_count": null,
      "outputs": []
    },
    {
      "cell_type": "markdown",
      "metadata": {
        "id": "G0v0S3FDl7iY"
      },
      "source": [
        "6번"
      ]
    },
    {
      "cell_type": "code",
      "metadata": {
        "id": "GjF9OZ7rl9dg"
      },
      "source": [
        "import turtle\n",
        ">>> t = turtle.Turtle()\n",
        ">>> t.shape(\"turtle\")\n",
        ">>> side = 200\n",
        ">>> t.forward(side)\n",
        ">>> t.lefr(120)\n",
        ">>> t.left(120)\n",
        ">>> t.forward(side)\n",
        ">>> t.lefrt(120)\n",
        ">>> t.left(120)\n",
        ">>> t.forward(side)\n",
        ">>> t.left(120)\n",
        ">>> t._scree.exitonclick"
      ],
      "execution_count": null,
      "outputs": []
    },
    {
      "cell_type": "code",
      "metadata": {
        "id": "fry664I9mfZp"
      },
      "source": [
        "from turtle import *\n",
        "shape(\"turtle\")\n",
        "side = 200; fd(side); left(120); fd(side); left(120); fd(side); left(120)  #마지막은 줄의 끝이라서 ;가 없다.\n",
        "exitonclick()"
      ],
      "execution_count": null,
      "outputs": []
    },
    {
      "cell_type": "markdown",
      "metadata": {
        "id": "7hm4ETiXnA1R"
      },
      "source": [
        "7번"
      ]
    },
    {
      "cell_type": "code",
      "metadata": {
        "id": "Uu1suiwdnCYJ"
      },
      "source": [
        "import turtle\n",
        "t = turtle.Turtle()\n",
        "t.shape(\"turtle\")\n",
        "side=50\n",
        "angle=90\n",
        "t.forward(side); t.right(angle); t.forward(side); t.right(angle); t.forward(side); t.right(angle); t.forward(side)\n",
        "t.forward(side); t.right(angle); t.forward(side); t.right(angle); t.forward(side)\n",
        "t.right(angle); t.forward(100); t.right(180)\n",
        "t.forward(side); t.right(angle); t.forward(side); t.right(angle); t.forward(side); t.right(angle); t.forward(side)\n",
        "t.forward(side); t.right(angle); t.forward(side); t.right(angle); t.forward(side)\n",
        "t.write(\"닫으려면 화면 클릭\"); t._screen.exitonclick()\n",
        "\n"
      ],
      "execution_count": null,
      "outputs": []
    },
    {
      "cell_type": "code",
      "metadata": {
        "id": "DlaGTaN_qCsu"
      },
      "source": [
        ">>> from turtle import *\n",
        ">>> shape(\"turtle\"); side = 50; angle = 90\n",
        ">>> forward(side); right(angle); forward(side); right(angle); forward(side); right(angle); forward(side)\n",
        ">>> forward(side); right(angle); forward(side); right(angle); forward(side)\n",
        ">>> right(angle); right(angle); forward(side); right(angle); forward(side); right(angle); forward(side)\n",
        ">>> forward(side); right(angle); forward(side); right(angle); forward(side)\n",
        ">>> write(\"닫으려면 화면 클릭\"); exitonclick()"
      ],
      "execution_count": null,
      "outputs": []
    }
  ]
}